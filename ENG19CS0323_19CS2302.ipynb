{
 "cells": [
  {
   "cell_type": "code",
   "execution_count": null,
   "metadata": {},
   "outputs": [],
   "source": [
    "def uniqueUpdate(data1, data2):\n",
    "    dupKeys = {}\n",
    "\n",
    "    for [k, v2] in data2:\n",
    "        if k in data1:\n",
    "            v1 = data1[k]\n",
    "            if v1 != v2:            \n",
    "                dupKeys[k] = [v1, v2]\n",
    "                del data1[k]\n",
    "            else:\n",
    "                data1[k] = v2\n",
    "    return dupKeys\n",
    "import sys\n",
    "if __name__ == '__main__':\n",
    "    data1 = {}\n",
    "    n1 = int(input())\n",
    "    for _ in range(n1):\n",
    "        k, v = map(int, input().split())\n",
    "        if k in data1:\n",
    "            sys.exit(\"Illegal: data1\")\n",
    "        data1[k] = v\n",
    "    data2 = []\n",
    "    n2 = int(input())\n",
    "    for _ in range(n2):\n",
    "        k, v = map(int, input().split())\n",
    "        for [k2, v2] in data2:\n",
    "            if k2 == k:\n",
    "                sys.exit(\"Illegal: data2\")\n",
    "        data2.append([k, v])\n",
    "    dup = uniqueUpdate(data1, data2)\n",
    "    print(data1)\n",
    "    print(data2)\n",
    "    print(dup)"
   ]
  },
  {
   "cell_type": "code",
   "execution_count": null,
   "metadata": {},
   "outputs": [],
   "source": []
  },
  {
   "cell_type": "code",
   "execution_count": null,
   "metadata": {},
   "outputs": [],
   "source": []
  }
 ],
 "metadata": {
  "kernelspec": {
   "display_name": "Python 3",
   "language": "python",
   "name": "python3"
  },
  "language_info": {
   "codemirror_mode": {
    "name": "ipython",
    "version": 3
   },
   "file_extension": ".py",
   "mimetype": "text/x-python",
   "name": "python",
   "nbconvert_exporter": "python",
   "pygments_lexer": "ipython3",
   "version": "3.7.4"
  }
 },
 "nbformat": 4,
 "nbformat_minor": 4
}
